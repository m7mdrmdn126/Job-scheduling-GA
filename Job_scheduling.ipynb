{
 "cells": [
  {
   "cell_type": "markdown",
   "metadata": {},
   "source": [
    "# getting the data "
   ]
  },
  {
   "cell_type": "code",
   "execution_count": 15,
   "metadata": {},
   "outputs": [
    {
     "data": {
      "text/plain": [
       "[[0, 0, 0, 0, 0, 0, 0, 0, 0, 0],\n",
       " [0, 0, 0, 0, 0, 0, 0, 0, 0, 0],\n",
       " [0, 0, 0, 0, 0, 0, 0, 0, 0, 0],\n",
       " [0, 0, 0, 0, 0, 0, 0, 0, 0, 0],\n",
       " [0, 0, 0, 0, 0, 0, 0, 0, 0, 0],\n",
       " [0, 0, 0, 0, 0, 0, 0, 0, 0, 0],\n",
       " [0, 0, 0, 0, 0, 0, 0, 0, 0, 0],\n",
       " [0, 0, 0, 0, 0, 0, 0, 0, 0, 0],\n",
       " [0, 0, 0, 0, 0, 0, 0, 0, 0, 0],\n",
       " [0, 0, 0, 0, 0, 0, 0, 0, 0, 0]]"
      ]
     },
     "execution_count": 15,
     "metadata": {},
     "output_type": "execute_result"
    }
   ],
   "source": [
    "data = [[0 for i in range(10)] for i in range(10)]\n",
    "data"
   ]
  },
  {
   "cell_type": "code",
   "execution_count": 16,
   "metadata": {},
   "outputs": [
    {
     "data": {
      "text/plain": [
       "[[86, 67, 89, 92, 88, 99, 94, 99, 68, 77],\n",
       " [92, 82, 94, 50, 75, 72, 69, 94, 66, 63],\n",
       " [83, 65, 55, 77, 85, 85, 64, 78, 61, 83],\n",
       " [76, 61, 68, 54, 99, 66, 75, 94, 67, 63],\n",
       " [99, 86, 67, 69, 88, 68, 95, 67, 95, 82],\n",
       " [88, 99, 80, 79, 81, 64, 66, 69, 80, 62],\n",
       " [95, 86, 66, 96, 97, 99, 52, 50, 97, 71],\n",
       " [62, 71, 51, 82, 98, 94, 73, 85, 95, 79],\n",
       " [94, 66, 90, 81, 76, 58, 71, 85, 93, 97],\n",
       " [59, 82, 96, 50, 81, 59, 58, 56, 67, 96]]"
      ]
     },
     "execution_count": 16,
     "metadata": {},
     "output_type": "execute_result"
    }
   ],
   "source": [
    "text = open('ABZ5_cleaned.txt')\n",
    "for idx, i in enumerate(text):\n",
    "    row = i.split()\n",
    "    for j in range(10):\n",
    "        r , c , d = idx , int(row[j*2]) , int(row[(j*2) + 1])\n",
    "        data[r][c] = d \n",
    "\n",
    "# each row is a job , each column is a machine , and the value is the time taken \n",
    "data"
   ]
  },
  {
   "cell_type": "markdown",
   "metadata": {},
   "source": [
    "### in the previous snippet we transformed the data into matrix for ease of use "
   ]
  },
  {
   "cell_type": "markdown",
   "metadata": {},
   "source": [
    "# Initialize Population "
   ]
  },
  {
   "cell_type": "code",
   "execution_count": 17,
   "metadata": {},
   "outputs": [
    {
     "data": {
      "text/plain": [
       "[[76, 67, 51, 96, 88, 58, 69, 78, 80, 96],\n",
       " [83, 67, 51, 79, 75, 68, 52, 85, 67, 96],\n",
       " [83, 71, 94, 69, 76, 59, 75, 69, 97, 77],\n",
       " [88, 67, 66, 50, 76, 59, 95, 94, 61, 79],\n",
       " [92, 66, 80, 50, 99, 68, 52, 99, 95, 83],\n",
       " [76, 82, 55, 69, 76, 94, 94, 50, 67, 62],\n",
       " [86, 86, 90, 50, 98, 99, 58, 69, 67, 83],\n",
       " [94, 61, 94, 77, 98, 68, 52, 69, 67, 77],\n",
       " [83, 66, 66, 82, 99, 59, 94, 94, 80, 82],\n",
       " [92, 86, 96, 79, 98, 58, 94, 67, 61, 63]]"
      ]
     },
     "execution_count": 17,
     "metadata": {},
     "output_type": "execute_result"
    }
   ],
   "source": [
    "import random\n",
    "\n",
    "n_population = 10\n",
    "n_machines = 10\n",
    "population = []\n",
    "\n",
    "for s in range(n_population):\n",
    "    choice = [i for i in range(10)]\n",
    "    chromosome = [] \n",
    "    for m in range(n_machines):\n",
    "        job = random.choice(choice)\n",
    "        choice.remove(job)\n",
    "        chromosome.append(data[job][m])\n",
    "    population.append(chromosome)\n",
    "    \n",
    "\n",
    "population\n"
   ]
  },
  {
   "cell_type": "markdown",
   "metadata": {},
   "source": [
    "# Fitness function"
   ]
  },
  {
   "cell_type": "code",
   "execution_count": 18,
   "metadata": {},
   "outputs": [],
   "source": [
    "def fitness_function(chromosome):\n",
    "    return sum(chromosome)"
   ]
  },
  {
   "cell_type": "markdown",
   "metadata": {},
   "source": [
    "# Roulette wheel"
   ]
  },
  {
   "cell_type": "code",
   "execution_count": 19,
   "metadata": {},
   "outputs": [],
   "source": [
    "def Roulette_wheel(fitness_scores):\n",
    "    return [i * 100 / sum(fitness_scores) for i in fitness_scores ]\n"
   ]
  },
  {
   "cell_type": "markdown",
   "metadata": {},
   "source": [
    "# Cross over"
   ]
  },
  {
   "cell_type": "code",
   "execution_count": 20,
   "metadata": {},
   "outputs": [],
   "source": [
    "import numpy as np\n",
    "def cross_over(chromo1 , chromo2):\n",
    "    chromo1 = np.array(chromo1).flatten().tolist()\n",
    "    chromo2 = np.array(chromo2).flatten().tolist()\n",
    "    chromo1[:5] , chromo2[:5] = chromo2[:5] , chromo1[:5]\n",
    "    return chromo1 , chromo2"
   ]
  },
  {
   "cell_type": "code",
   "execution_count": 21,
   "metadata": {},
   "outputs": [
    {
     "name": "stdout",
     "output_type": "stream",
     "text": [
      "epoch 0 | minimum fitness is 723\n",
      "epoch 1 | minimum fitness is 714\n",
      "epoch 2 | minimum fitness is 714\n",
      "epoch 3 | minimum fitness is 714\n",
      "epoch 4 | minimum fitness is 714\n",
      "epoch 5 | minimum fitness is 714\n",
      "epoch 6 | minimum fitness is 723\n",
      "epoch 7 | minimum fitness is 714\n",
      "epoch 8 | minimum fitness is 714\n",
      "epoch 9 | minimum fitness is 714\n",
      "epoch 10 | minimum fitness is 714\n",
      "epoch 11 | minimum fitness is 723\n",
      "epoch 12 | minimum fitness is 714\n",
      "epoch 13 | minimum fitness is 723\n",
      "epoch 14 | minimum fitness is 723\n",
      "epoch 15 | minimum fitness is 725\n",
      "epoch 16 | minimum fitness is 725\n",
      "epoch 17 | minimum fitness is 725\n",
      "epoch 18 | minimum fitness is 725\n",
      "epoch 19 | minimum fitness is 725\n",
      "epoch 20 | minimum fitness is 725\n",
      "epoch 21 | minimum fitness is 725\n",
      "epoch 22 | minimum fitness is 725\n",
      "epoch 23 | minimum fitness is 725\n",
      "epoch 24 | minimum fitness is 725\n",
      "epoch 25 | minimum fitness is 725\n",
      "epoch 26 | minimum fitness is 734\n",
      "epoch 27 | minimum fitness is 734\n",
      "epoch 28 | minimum fitness is 734\n",
      "epoch 29 | minimum fitness is 734\n",
      "epoch 30 | minimum fitness is 734\n",
      "epoch 31 | minimum fitness is 734\n",
      "epoch 32 | minimum fitness is 734\n",
      "epoch 33 | minimum fitness is 734\n",
      "epoch 34 | minimum fitness is 734\n",
      "epoch 35 | minimum fitness is 734\n",
      "epoch 36 | minimum fitness is 734\n",
      "epoch 37 | minimum fitness is 734\n",
      "epoch 38 | minimum fitness is 734\n",
      "epoch 39 | minimum fitness is 734\n",
      "epoch 40 | minimum fitness is 734\n",
      "epoch 41 | minimum fitness is 734\n",
      "epoch 42 | minimum fitness is 734\n",
      "epoch 43 | minimum fitness is 734\n",
      "epoch 44 | minimum fitness is 734\n",
      "epoch 45 | minimum fitness is 734\n",
      "epoch 46 | minimum fitness is 734\n",
      "epoch 47 | minimum fitness is 734\n",
      "epoch 48 | minimum fitness is 734\n",
      "epoch 49 | minimum fitness is 734\n",
      "epoch 50 | minimum fitness is 734\n",
      "epoch 51 | minimum fitness is 734\n",
      "epoch 52 | minimum fitness is 734\n",
      "epoch 53 | minimum fitness is 734\n",
      "epoch 54 | minimum fitness is 734\n",
      "epoch 55 | minimum fitness is 734\n",
      "epoch 56 | minimum fitness is 734\n",
      "epoch 57 | minimum fitness is 734\n",
      "epoch 58 | minimum fitness is 734\n",
      "epoch 59 | minimum fitness is 734\n",
      "epoch 60 | minimum fitness is 734\n",
      "epoch 61 | minimum fitness is 734\n",
      "epoch 62 | minimum fitness is 734\n",
      "epoch 63 | minimum fitness is 734\n",
      "epoch 64 | minimum fitness is 734\n",
      "epoch 65 | minimum fitness is 734\n",
      "epoch 66 | minimum fitness is 734\n",
      "epoch 67 | minimum fitness is 734\n",
      "epoch 68 | minimum fitness is 734\n",
      "epoch 69 | minimum fitness is 734\n",
      "epoch 70 | minimum fitness is 734\n",
      "epoch 71 | minimum fitness is 734\n",
      "epoch 72 | minimum fitness is 734\n",
      "epoch 73 | minimum fitness is 734\n",
      "epoch 74 | minimum fitness is 734\n",
      "epoch 75 | minimum fitness is 734\n",
      "epoch 76 | minimum fitness is 734\n",
      "epoch 77 | minimum fitness is 734\n",
      "epoch 78 | minimum fitness is 734\n",
      "epoch 79 | minimum fitness is 734\n",
      "epoch 80 | minimum fitness is 734\n",
      "epoch 81 | minimum fitness is 734\n",
      "epoch 82 | minimum fitness is 734\n",
      "epoch 83 | minimum fitness is 734\n",
      "epoch 84 | minimum fitness is 734\n",
      "epoch 85 | minimum fitness is 734\n",
      "epoch 86 | minimum fitness is 734\n",
      "epoch 87 | minimum fitness is 734\n",
      "epoch 88 | minimum fitness is 734\n",
      "epoch 89 | minimum fitness is 734\n",
      "epoch 90 | minimum fitness is 734\n",
      "epoch 91 | minimum fitness is 734\n",
      "epoch 92 | minimum fitness is 734\n",
      "epoch 93 | minimum fitness is 734\n",
      "epoch 94 | minimum fitness is 734\n",
      "epoch 95 | minimum fitness is 734\n",
      "epoch 96 | minimum fitness is 734\n",
      "epoch 97 | minimum fitness is 734\n",
      "epoch 98 | minimum fitness is 734\n",
      "epoch 99 | minimum fitness is 734\n"
     ]
    }
   ],
   "source": [
    "epochs = 100 \n",
    "\n",
    "for epoch in range(epochs):\n",
    "    \n",
    "    fitness_score = []\n",
    "\n",
    "    for chromosome in population:\n",
    "        fitness_score.append(fitness_function(chromosome))\n",
    " \n",
    "\n",
    "    props = Roulette_wheel(fitness_score)\n",
    "\n",
    "    generator = (random.choices(population , props) for i in range(10))\n",
    "\n",
    "    pop = []\n",
    "    for i in range(5):\n",
    "        chro1 , chro2 = cross_over(next(generator) , next(generator))\n",
    "        pop.append(chro1)\n",
    "        pop.append(chro2)\n",
    "    population = pop\n",
    "\n",
    "    print(f\"epoch {epoch} | minimum fitness is {min(fitness_score)}\")"
   ]
  },
  {
   "cell_type": "code",
   "execution_count": null,
   "metadata": {},
   "outputs": [],
   "source": []
  }
 ],
 "metadata": {
  "kernelspec": {
   "display_name": "Python 3",
   "language": "python",
   "name": "python3"
  },
  "language_info": {
   "codemirror_mode": {
    "name": "ipython",
    "version": 3
   },
   "file_extension": ".py",
   "mimetype": "text/x-python",
   "name": "python",
   "nbconvert_exporter": "python",
   "pygments_lexer": "ipython3",
   "version": "3.12.7"
  }
 },
 "nbformat": 4,
 "nbformat_minor": 2
}
